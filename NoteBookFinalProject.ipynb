{
  "nbformat": 4,
  "nbformat_minor": 0,
  "metadata": {
    "colab": {
      "provenance": [],
      "authorship_tag": "ABX9TyPCcGpG4SQVBClO90NQf4lp",
      "include_colab_link": true
    },
    "kernelspec": {
      "name": "python3",
      "display_name": "Python 3"
    },
    "language_info": {
      "name": "python"
    },
    "accelerator": "GPU",
    "gpuClass": "standard"
  },
  "cells": [
    {
      "cell_type": "markdown",
      "metadata": {
        "id": "view-in-github",
        "colab_type": "text"
      },
      "source": [
        "<a href=\"https://colab.research.google.com/github/yeric1789/CMSC320_Final_Project/blob/main/NoteBookFinalProject.ipynb\" target=\"_parent\"><img src=\"https://colab.research.google.com/assets/colab-badge.svg\" alt=\"Open In Colab\"/></a>"
      ]
    },
    {
      "cell_type": "markdown",
      "source": [
        "https://learnopencv.com/multi-label-image-classification-with-pytorch-image-tagging/\n"
      ],
      "metadata": {
        "id": "k25FWZqo7Xgy"
      }
    },
    {
      "cell_type": "code",
      "source": [
        "import pandas as pd\n",
        "import numpy as np\n",
        "import seaborn as sns\n",
        "from matplotlib import pyplot as plt \n",
        "from sklearn.utils import resample\n",
        "from scipy.stats import mannwhitneyu,shapiro"
      ],
      "metadata": {
        "id": "ohuiwSCQpCPP"
      },
      "execution_count": 2,
      "outputs": []
    },
    {
      "cell_type": "code",
      "source": [
        "sns.set_style(\"darkgrid\")"
      ],
      "metadata": {
        "id": "HNs2QCMGx0VK"
      },
      "execution_count": 3,
      "outputs": []
    },
    {
      "cell_type": "markdown",
      "source": [
        "#Loading the data/Data collection"
      ],
      "metadata": {
        "id": "VdL8lbWcqiwl"
      }
    },
    {
      "cell_type": "code",
      "execution_count": 4,
      "metadata": {
        "id": "azjsL9T4kWNe",
        "colab": {
          "base_uri": "https://localhost:8080/"
        },
        "outputId": "f37ef98b-d0fb-4c05-ca06-e88fa8e9f743"
      },
      "outputs": [
        {
          "output_type": "stream",
          "name": "stdout",
          "text": [
            "Drive already mounted at /content/drive; to attempt to forcibly remount, call drive.mount(\"/content/drive\", force_remount=True).\n"
          ]
        }
      ],
      "source": [
        "from google.colab import drive\n",
        "drive.mount('/content/drive')"
      ]
    },
    {
      "cell_type": "code",
      "source": [
        "data = pd.read_csv('/content/drive/MyDrive/CMSC320-Intro_data_science/FinalProject/Data/Data_Entry_2017.csv')\n",
        "data = data.iloc[:4999] # We use a subset \n",
        "data.head()"
      ],
      "metadata": {
        "colab": {
          "base_uri": "https://localhost:8080/",
          "height": 288
        },
        "id": "EHTk96xhpAIk",
        "outputId": "1132c294-32d2-41c6-a9a8-88411f1860d3"
      },
      "execution_count": 5,
      "outputs": [
        {
          "output_type": "execute_result",
          "data": {
            "text/plain": [
              "        Image Index          Finding Labels  Follow-up #  Patient ID  \\\n",
              "0  00000001_000.png            Cardiomegaly            0           1   \n",
              "1  00000001_001.png  Cardiomegaly|Emphysema            1           1   \n",
              "2  00000001_002.png   Cardiomegaly|Effusion            2           1   \n",
              "3  00000002_000.png              No Finding            0           2   \n",
              "4  00000003_000.png                  Hernia            0           3   \n",
              "\n",
              "   Patient Age Patient Gender View Position  OriginalImage[Width  Height]  \\\n",
              "0           58              M            PA                 2682     2749   \n",
              "1           58              M            PA                 2894     2729   \n",
              "2           58              M            PA                 2500     2048   \n",
              "3           81              M            PA                 2500     2048   \n",
              "4           81              F            PA                 2582     2991   \n",
              "\n",
              "   OriginalImagePixelSpacing[x     y]  Unnamed: 11  \n",
              "0                        0.143  0.143          NaN  \n",
              "1                        0.143  0.143          NaN  \n",
              "2                        0.168  0.168          NaN  \n",
              "3                        0.171  0.171          NaN  \n",
              "4                        0.143  0.143          NaN  "
            ],
            "text/html": [
              "\n",
              "  <div id=\"df-a9cf0d96-355e-4869-8728-748e80d1e39d\">\n",
              "    <div class=\"colab-df-container\">\n",
              "      <div>\n",
              "<style scoped>\n",
              "    .dataframe tbody tr th:only-of-type {\n",
              "        vertical-align: middle;\n",
              "    }\n",
              "\n",
              "    .dataframe tbody tr th {\n",
              "        vertical-align: top;\n",
              "    }\n",
              "\n",
              "    .dataframe thead th {\n",
              "        text-align: right;\n",
              "    }\n",
              "</style>\n",
              "<table border=\"1\" class=\"dataframe\">\n",
              "  <thead>\n",
              "    <tr style=\"text-align: right;\">\n",
              "      <th></th>\n",
              "      <th>Image Index</th>\n",
              "      <th>Finding Labels</th>\n",
              "      <th>Follow-up #</th>\n",
              "      <th>Patient ID</th>\n",
              "      <th>Patient Age</th>\n",
              "      <th>Patient Gender</th>\n",
              "      <th>View Position</th>\n",
              "      <th>OriginalImage[Width</th>\n",
              "      <th>Height]</th>\n",
              "      <th>OriginalImagePixelSpacing[x</th>\n",
              "      <th>y]</th>\n",
              "      <th>Unnamed: 11</th>\n",
              "    </tr>\n",
              "  </thead>\n",
              "  <tbody>\n",
              "    <tr>\n",
              "      <th>0</th>\n",
              "      <td>00000001_000.png</td>\n",
              "      <td>Cardiomegaly</td>\n",
              "      <td>0</td>\n",
              "      <td>1</td>\n",
              "      <td>58</td>\n",
              "      <td>M</td>\n",
              "      <td>PA</td>\n",
              "      <td>2682</td>\n",
              "      <td>2749</td>\n",
              "      <td>0.143</td>\n",
              "      <td>0.143</td>\n",
              "      <td>NaN</td>\n",
              "    </tr>\n",
              "    <tr>\n",
              "      <th>1</th>\n",
              "      <td>00000001_001.png</td>\n",
              "      <td>Cardiomegaly|Emphysema</td>\n",
              "      <td>1</td>\n",
              "      <td>1</td>\n",
              "      <td>58</td>\n",
              "      <td>M</td>\n",
              "      <td>PA</td>\n",
              "      <td>2894</td>\n",
              "      <td>2729</td>\n",
              "      <td>0.143</td>\n",
              "      <td>0.143</td>\n",
              "      <td>NaN</td>\n",
              "    </tr>\n",
              "    <tr>\n",
              "      <th>2</th>\n",
              "      <td>00000001_002.png</td>\n",
              "      <td>Cardiomegaly|Effusion</td>\n",
              "      <td>2</td>\n",
              "      <td>1</td>\n",
              "      <td>58</td>\n",
              "      <td>M</td>\n",
              "      <td>PA</td>\n",
              "      <td>2500</td>\n",
              "      <td>2048</td>\n",
              "      <td>0.168</td>\n",
              "      <td>0.168</td>\n",
              "      <td>NaN</td>\n",
              "    </tr>\n",
              "    <tr>\n",
              "      <th>3</th>\n",
              "      <td>00000002_000.png</td>\n",
              "      <td>No Finding</td>\n",
              "      <td>0</td>\n",
              "      <td>2</td>\n",
              "      <td>81</td>\n",
              "      <td>M</td>\n",
              "      <td>PA</td>\n",
              "      <td>2500</td>\n",
              "      <td>2048</td>\n",
              "      <td>0.171</td>\n",
              "      <td>0.171</td>\n",
              "      <td>NaN</td>\n",
              "    </tr>\n",
              "    <tr>\n",
              "      <th>4</th>\n",
              "      <td>00000003_000.png</td>\n",
              "      <td>Hernia</td>\n",
              "      <td>0</td>\n",
              "      <td>3</td>\n",
              "      <td>81</td>\n",
              "      <td>F</td>\n",
              "      <td>PA</td>\n",
              "      <td>2582</td>\n",
              "      <td>2991</td>\n",
              "      <td>0.143</td>\n",
              "      <td>0.143</td>\n",
              "      <td>NaN</td>\n",
              "    </tr>\n",
              "  </tbody>\n",
              "</table>\n",
              "</div>\n",
              "      <button class=\"colab-df-convert\" onclick=\"convertToInteractive('df-a9cf0d96-355e-4869-8728-748e80d1e39d')\"\n",
              "              title=\"Convert this dataframe to an interactive table.\"\n",
              "              style=\"display:none;\">\n",
              "        \n",
              "  <svg xmlns=\"http://www.w3.org/2000/svg\" height=\"24px\"viewBox=\"0 0 24 24\"\n",
              "       width=\"24px\">\n",
              "    <path d=\"M0 0h24v24H0V0z\" fill=\"none\"/>\n",
              "    <path d=\"M18.56 5.44l.94 2.06.94-2.06 2.06-.94-2.06-.94-.94-2.06-.94 2.06-2.06.94zm-11 1L8.5 8.5l.94-2.06 2.06-.94-2.06-.94L8.5 2.5l-.94 2.06-2.06.94zm10 10l.94 2.06.94-2.06 2.06-.94-2.06-.94-.94-2.06-.94 2.06-2.06.94z\"/><path d=\"M17.41 7.96l-1.37-1.37c-.4-.4-.92-.59-1.43-.59-.52 0-1.04.2-1.43.59L10.3 9.45l-7.72 7.72c-.78.78-.78 2.05 0 2.83L4 21.41c.39.39.9.59 1.41.59.51 0 1.02-.2 1.41-.59l7.78-7.78 2.81-2.81c.8-.78.8-2.07 0-2.86zM5.41 20L4 18.59l7.72-7.72 1.47 1.35L5.41 20z\"/>\n",
              "  </svg>\n",
              "      </button>\n",
              "      \n",
              "  <style>\n",
              "    .colab-df-container {\n",
              "      display:flex;\n",
              "      flex-wrap:wrap;\n",
              "      gap: 12px;\n",
              "    }\n",
              "\n",
              "    .colab-df-convert {\n",
              "      background-color: #E8F0FE;\n",
              "      border: none;\n",
              "      border-radius: 50%;\n",
              "      cursor: pointer;\n",
              "      display: none;\n",
              "      fill: #1967D2;\n",
              "      height: 32px;\n",
              "      padding: 0 0 0 0;\n",
              "      width: 32px;\n",
              "    }\n",
              "\n",
              "    .colab-df-convert:hover {\n",
              "      background-color: #E2EBFA;\n",
              "      box-shadow: 0px 1px 2px rgba(60, 64, 67, 0.3), 0px 1px 3px 1px rgba(60, 64, 67, 0.15);\n",
              "      fill: #174EA6;\n",
              "    }\n",
              "\n",
              "    [theme=dark] .colab-df-convert {\n",
              "      background-color: #3B4455;\n",
              "      fill: #D2E3FC;\n",
              "    }\n",
              "\n",
              "    [theme=dark] .colab-df-convert:hover {\n",
              "      background-color: #434B5C;\n",
              "      box-shadow: 0px 1px 3px 1px rgba(0, 0, 0, 0.15);\n",
              "      filter: drop-shadow(0px 1px 2px rgba(0, 0, 0, 0.3));\n",
              "      fill: #FFFFFF;\n",
              "    }\n",
              "  </style>\n",
              "\n",
              "      <script>\n",
              "        const buttonEl =\n",
              "          document.querySelector('#df-a9cf0d96-355e-4869-8728-748e80d1e39d button.colab-df-convert');\n",
              "        buttonEl.style.display =\n",
              "          google.colab.kernel.accessAllowed ? 'block' : 'none';\n",
              "\n",
              "        async function convertToInteractive(key) {\n",
              "          const element = document.querySelector('#df-a9cf0d96-355e-4869-8728-748e80d1e39d');\n",
              "          const dataTable =\n",
              "            await google.colab.kernel.invokeFunction('convertToInteractive',\n",
              "                                                     [key], {});\n",
              "          if (!dataTable) return;\n",
              "\n",
              "          const docLinkHtml = 'Like what you see? Visit the ' +\n",
              "            '<a target=\"_blank\" href=https://colab.research.google.com/notebooks/data_table.ipynb>data table notebook</a>'\n",
              "            + ' to learn more about interactive tables.';\n",
              "          element.innerHTML = '';\n",
              "          dataTable['output_type'] = 'display_data';\n",
              "          await google.colab.output.renderOutput(dataTable, element);\n",
              "          const docLink = document.createElement('div');\n",
              "          docLink.innerHTML = docLinkHtml;\n",
              "          element.appendChild(docLink);\n",
              "        }\n",
              "      </script>\n",
              "    </div>\n",
              "  </div>\n",
              "  "
            ]
          },
          "metadata": {},
          "execution_count": 5
        }
      ]
    },
    {
      "cell_type": "markdown",
      "source": [
        "#Data exploration \n",
        "Each observation has an image and some more attributes attached to it, we will start by exploring some of the attributes first. "
      ],
      "metadata": {
        "id": "KzyVYLAap_4o"
      }
    },
    {
      "cell_type": "code",
      "source": [
        "data.describe()"
      ],
      "metadata": {
        "colab": {
          "base_uri": "https://localhost:8080/",
          "height": 300
        },
        "id": "2SSFWR96qRMF",
        "outputId": "2bdc0588-72bb-4a62-a535-f809450191da"
      },
      "execution_count": 6,
      "outputs": [
        {
          "output_type": "execute_result",
          "data": {
            "text/plain": [
              "       Follow-up #   Patient ID  Patient Age  OriginalImage[Width  \\\n",
              "count  4999.000000  4999.000000  4999.000000          4999.000000   \n",
              "mean      7.153431   664.016003    51.809362          2585.575115   \n",
              "std      11.211108   395.466319    17.015137           332.878470   \n",
              "min       0.000000     1.000000     9.000000          1694.000000   \n",
              "25%       0.000000   318.000000    40.000000          2500.000000   \n",
              "50%       3.000000   643.000000    54.000000          2500.000000   \n",
              "75%       8.000000  1021.500000    64.000000          2992.000000   \n",
              "max      66.000000  1335.000000    94.000000          3056.000000   \n",
              "\n",
              "           Height]  OriginalImagePixelSpacing[x           y]  Unnamed: 11  \n",
              "count  4999.000000                  4999.000000  4999.000000          0.0  \n",
              "mean   2465.156431                     0.157476     0.157476          NaN  \n",
              "std     392.205703                     0.015117     0.015117          NaN  \n",
              "min    1677.000000                     0.115000     0.115000          NaN  \n",
              "25%    2048.000000                     0.143000     0.143000          NaN  \n",
              "50%    2500.000000                     0.168000     0.168000          NaN  \n",
              "75%    2991.000000                     0.168000     0.168000          NaN  \n",
              "max    3056.000000                     0.198800     0.198800          NaN  "
            ],
            "text/html": [
              "\n",
              "  <div id=\"df-1b6b8f4e-2d25-4beb-801f-61537afe19e0\">\n",
              "    <div class=\"colab-df-container\">\n",
              "      <div>\n",
              "<style scoped>\n",
              "    .dataframe tbody tr th:only-of-type {\n",
              "        vertical-align: middle;\n",
              "    }\n",
              "\n",
              "    .dataframe tbody tr th {\n",
              "        vertical-align: top;\n",
              "    }\n",
              "\n",
              "    .dataframe thead th {\n",
              "        text-align: right;\n",
              "    }\n",
              "</style>\n",
              "<table border=\"1\" class=\"dataframe\">\n",
              "  <thead>\n",
              "    <tr style=\"text-align: right;\">\n",
              "      <th></th>\n",
              "      <th>Follow-up #</th>\n",
              "      <th>Patient ID</th>\n",
              "      <th>Patient Age</th>\n",
              "      <th>OriginalImage[Width</th>\n",
              "      <th>Height]</th>\n",
              "      <th>OriginalImagePixelSpacing[x</th>\n",
              "      <th>y]</th>\n",
              "      <th>Unnamed: 11</th>\n",
              "    </tr>\n",
              "  </thead>\n",
              "  <tbody>\n",
              "    <tr>\n",
              "      <th>count</th>\n",
              "      <td>4999.000000</td>\n",
              "      <td>4999.000000</td>\n",
              "      <td>4999.000000</td>\n",
              "      <td>4999.000000</td>\n",
              "      <td>4999.000000</td>\n",
              "      <td>4999.000000</td>\n",
              "      <td>4999.000000</td>\n",
              "      <td>0.0</td>\n",
              "    </tr>\n",
              "    <tr>\n",
              "      <th>mean</th>\n",
              "      <td>7.153431</td>\n",
              "      <td>664.016003</td>\n",
              "      <td>51.809362</td>\n",
              "      <td>2585.575115</td>\n",
              "      <td>2465.156431</td>\n",
              "      <td>0.157476</td>\n",
              "      <td>0.157476</td>\n",
              "      <td>NaN</td>\n",
              "    </tr>\n",
              "    <tr>\n",
              "      <th>std</th>\n",
              "      <td>11.211108</td>\n",
              "      <td>395.466319</td>\n",
              "      <td>17.015137</td>\n",
              "      <td>332.878470</td>\n",
              "      <td>392.205703</td>\n",
              "      <td>0.015117</td>\n",
              "      <td>0.015117</td>\n",
              "      <td>NaN</td>\n",
              "    </tr>\n",
              "    <tr>\n",
              "      <th>min</th>\n",
              "      <td>0.000000</td>\n",
              "      <td>1.000000</td>\n",
              "      <td>9.000000</td>\n",
              "      <td>1694.000000</td>\n",
              "      <td>1677.000000</td>\n",
              "      <td>0.115000</td>\n",
              "      <td>0.115000</td>\n",
              "      <td>NaN</td>\n",
              "    </tr>\n",
              "    <tr>\n",
              "      <th>25%</th>\n",
              "      <td>0.000000</td>\n",
              "      <td>318.000000</td>\n",
              "      <td>40.000000</td>\n",
              "      <td>2500.000000</td>\n",
              "      <td>2048.000000</td>\n",
              "      <td>0.143000</td>\n",
              "      <td>0.143000</td>\n",
              "      <td>NaN</td>\n",
              "    </tr>\n",
              "    <tr>\n",
              "      <th>50%</th>\n",
              "      <td>3.000000</td>\n",
              "      <td>643.000000</td>\n",
              "      <td>54.000000</td>\n",
              "      <td>2500.000000</td>\n",
              "      <td>2500.000000</td>\n",
              "      <td>0.168000</td>\n",
              "      <td>0.168000</td>\n",
              "      <td>NaN</td>\n",
              "    </tr>\n",
              "    <tr>\n",
              "      <th>75%</th>\n",
              "      <td>8.000000</td>\n",
              "      <td>1021.500000</td>\n",
              "      <td>64.000000</td>\n",
              "      <td>2992.000000</td>\n",
              "      <td>2991.000000</td>\n",
              "      <td>0.168000</td>\n",
              "      <td>0.168000</td>\n",
              "      <td>NaN</td>\n",
              "    </tr>\n",
              "    <tr>\n",
              "      <th>max</th>\n",
              "      <td>66.000000</td>\n",
              "      <td>1335.000000</td>\n",
              "      <td>94.000000</td>\n",
              "      <td>3056.000000</td>\n",
              "      <td>3056.000000</td>\n",
              "      <td>0.198800</td>\n",
              "      <td>0.198800</td>\n",
              "      <td>NaN</td>\n",
              "    </tr>\n",
              "  </tbody>\n",
              "</table>\n",
              "</div>\n",
              "      <button class=\"colab-df-convert\" onclick=\"convertToInteractive('df-1b6b8f4e-2d25-4beb-801f-61537afe19e0')\"\n",
              "              title=\"Convert this dataframe to an interactive table.\"\n",
              "              style=\"display:none;\">\n",
              "        \n",
              "  <svg xmlns=\"http://www.w3.org/2000/svg\" height=\"24px\"viewBox=\"0 0 24 24\"\n",
              "       width=\"24px\">\n",
              "    <path d=\"M0 0h24v24H0V0z\" fill=\"none\"/>\n",
              "    <path d=\"M18.56 5.44l.94 2.06.94-2.06 2.06-.94-2.06-.94-.94-2.06-.94 2.06-2.06.94zm-11 1L8.5 8.5l.94-2.06 2.06-.94-2.06-.94L8.5 2.5l-.94 2.06-2.06.94zm10 10l.94 2.06.94-2.06 2.06-.94-2.06-.94-.94-2.06-.94 2.06-2.06.94z\"/><path d=\"M17.41 7.96l-1.37-1.37c-.4-.4-.92-.59-1.43-.59-.52 0-1.04.2-1.43.59L10.3 9.45l-7.72 7.72c-.78.78-.78 2.05 0 2.83L4 21.41c.39.39.9.59 1.41.59.51 0 1.02-.2 1.41-.59l7.78-7.78 2.81-2.81c.8-.78.8-2.07 0-2.86zM5.41 20L4 18.59l7.72-7.72 1.47 1.35L5.41 20z\"/>\n",
              "  </svg>\n",
              "      </button>\n",
              "      \n",
              "  <style>\n",
              "    .colab-df-container {\n",
              "      display:flex;\n",
              "      flex-wrap:wrap;\n",
              "      gap: 12px;\n",
              "    }\n",
              "\n",
              "    .colab-df-convert {\n",
              "      background-color: #E8F0FE;\n",
              "      border: none;\n",
              "      border-radius: 50%;\n",
              "      cursor: pointer;\n",
              "      display: none;\n",
              "      fill: #1967D2;\n",
              "      height: 32px;\n",
              "      padding: 0 0 0 0;\n",
              "      width: 32px;\n",
              "    }\n",
              "\n",
              "    .colab-df-convert:hover {\n",
              "      background-color: #E2EBFA;\n",
              "      box-shadow: 0px 1px 2px rgba(60, 64, 67, 0.3), 0px 1px 3px 1px rgba(60, 64, 67, 0.15);\n",
              "      fill: #174EA6;\n",
              "    }\n",
              "\n",
              "    [theme=dark] .colab-df-convert {\n",
              "      background-color: #3B4455;\n",
              "      fill: #D2E3FC;\n",
              "    }\n",
              "\n",
              "    [theme=dark] .colab-df-convert:hover {\n",
              "      background-color: #434B5C;\n",
              "      box-shadow: 0px 1px 3px 1px rgba(0, 0, 0, 0.15);\n",
              "      filter: drop-shadow(0px 1px 2px rgba(0, 0, 0, 0.3));\n",
              "      fill: #FFFFFF;\n",
              "    }\n",
              "  </style>\n",
              "\n",
              "      <script>\n",
              "        const buttonEl =\n",
              "          document.querySelector('#df-1b6b8f4e-2d25-4beb-801f-61537afe19e0 button.colab-df-convert');\n",
              "        buttonEl.style.display =\n",
              "          google.colab.kernel.accessAllowed ? 'block' : 'none';\n",
              "\n",
              "        async function convertToInteractive(key) {\n",
              "          const element = document.querySelector('#df-1b6b8f4e-2d25-4beb-801f-61537afe19e0');\n",
              "          const dataTable =\n",
              "            await google.colab.kernel.invokeFunction('convertToInteractive',\n",
              "                                                     [key], {});\n",
              "          if (!dataTable) return;\n",
              "\n",
              "          const docLinkHtml = 'Like what you see? Visit the ' +\n",
              "            '<a target=\"_blank\" href=https://colab.research.google.com/notebooks/data_table.ipynb>data table notebook</a>'\n",
              "            + ' to learn more about interactive tables.';\n",
              "          element.innerHTML = '';\n",
              "          dataTable['output_type'] = 'display_data';\n",
              "          await google.colab.output.renderOutput(dataTable, element);\n",
              "          const docLink = document.createElement('div');\n",
              "          docLink.innerHTML = docLinkHtml;\n",
              "          element.appendChild(docLink);\n",
              "        }\n",
              "      </script>\n",
              "    </div>\n",
              "  </div>\n",
              "  "
            ]
          },
          "metadata": {},
          "execution_count": 6
        }
      ]
    },
    {
      "cell_type": "code",
      "source": [
        "def count_disease(findings):\n",
        "  for j in findings:\n",
        "    if j in overview.keys():\n",
        "      overview[j] += 1\n",
        "    else: \n",
        "      overview[j] = 1"
      ],
      "metadata": {
        "id": "GmQtAJnrTEla"
      },
      "execution_count": 7,
      "outputs": []
    },
    {
      "cell_type": "code",
      "source": [
        "data['Finding Labels'] = data.apply(lambda x: x['Finding Labels'].split('|'),axis = 1)\n",
        "\n",
        "# Count the different \n",
        "overview = {}\n",
        "for findings in data['Finding Labels']:\n",
        "  for j in findings:\n",
        "    if j in overview.keys():\n",
        "      overview[j] += 1\n",
        "    else: \n",
        "      overview[j] = 1"
      ],
      "metadata": {
        "id": "PZdnn34mSecL"
      },
      "execution_count": 8,
      "outputs": []
    },
    {
      "cell_type": "code",
      "source": [
        "overview"
      ],
      "metadata": {
        "colab": {
          "base_uri": "https://localhost:8080/"
        },
        "id": "hXC20W2hS1U3",
        "outputId": "219d0724-a311-4b2a-e734-296d254ff9f1"
      },
      "execution_count": 9,
      "outputs": [
        {
          "output_type": "execute_result",
          "data": {
            "text/plain": [
              "{'Cardiomegaly': 196,\n",
              " 'Emphysema': 125,\n",
              " 'Effusion': 487,\n",
              " 'No Finding': 2754,\n",
              " 'Hernia': 27,\n",
              " 'Infiltration': 830,\n",
              " 'Mass': 161,\n",
              " 'Nodule': 214,\n",
              " 'Atelectasis': 460,\n",
              " 'Pneumothorax': 199,\n",
              " 'Pleural_Thickening': 165,\n",
              " 'Pneumonia': 65,\n",
              " 'Fibrosis': 172,\n",
              " 'Edema': 90,\n",
              " 'Consolidation': 205}"
            ]
          },
          "metadata": {},
          "execution_count": 9
        }
      ]
    },
    {
      "cell_type": "markdown",
      "source": [
        "Now we can create a one-hot encoding dataframe of all the labels being assigned to each image. After that it can be concatenated with the originial data matrix. "
      ],
      "metadata": {
        "id": "TmDBaSC2t6i1"
      }
    },
    {
      "cell_type": "code",
      "source": [
        "dummies = pd.DataFrame(np.zeros((len(data), len(overview.keys())), dtype=np.int), columns=overview.keys())\n",
        "for i,des in enumerate(data['Finding Labels']):\n",
        "  dummies.loc[i][des] = 1\n",
        "\n",
        "#Concat horizontally\n",
        "data = pd.concat([data,dummies],axis=1)"
      ],
      "metadata": {
        "colab": {
          "base_uri": "https://localhost:8080/"
        },
        "id": "XCtMUSQlOodC",
        "outputId": "cf84ab26-8918-4bb4-855e-db1d5e9ef2a6"
      },
      "execution_count": 10,
      "outputs": [
        {
          "output_type": "stream",
          "name": "stderr",
          "text": [
            "<ipython-input-10-9b6e35be31a7>:1: DeprecationWarning: `np.int` is a deprecated alias for the builtin `int`. To silence this warning, use `int` by itself. Doing this will not modify any behavior and is safe. When replacing `np.int`, you may wish to use e.g. `np.int64` or `np.int32` to specify the precision. If you wish to review your current use, check the release note link for additional information.\n",
            "Deprecated in NumPy 1.20; for more details and guidance: https://numpy.org/devdocs/release/1.20.0-notes.html#deprecations\n",
            "  dummies = pd.DataFrame(np.zeros((len(data), len(overview.keys())), dtype=np.int), columns=overview.keys())\n"
          ]
        }
      ]
    },
    {
      "cell_type": "markdown",
      "source": [
        "Now let's see which diseases are the most common, by plotting a histogram. "
      ],
      "metadata": {
        "id": "dribQ-doQnsR"
      }
    },
    {
      "cell_type": "code",
      "source": [
        "plt.rcParams[\"figure.figsize\"] = (10,5)\n",
        "x = list(overview.keys())\n",
        "y = list(overview.values())\n",
        "sns.barplot(x,y)\n",
        "plt.title('Distribution of findings')\n",
        "plt.xticks(rotation=45)"
      ],
      "metadata": {
        "colab": {
          "base_uri": "https://localhost:8080/",
          "height": 491
        },
        "id": "nZvUVygAr5HW",
        "outputId": "79eb6e50-8191-4e61-a391-e33c0b2a10fd"
      },
      "execution_count": 11,
      "outputs": [
        {
          "output_type": "stream",
          "name": "stderr",
          "text": [
            "/usr/local/lib/python3.8/dist-packages/seaborn/_decorators.py:36: FutureWarning: Pass the following variables as keyword args: x, y. From version 0.12, the only valid positional argument will be `data`, and passing other arguments without an explicit keyword will result in an error or misinterpretation.\n",
            "  warnings.warn(\n"
          ]
        },
        {
          "output_type": "execute_result",
          "data": {
            "text/plain": [
              "(array([ 0,  1,  2,  3,  4,  5,  6,  7,  8,  9, 10, 11, 12, 13, 14]),\n",
              " <a list of 15 Text major ticklabel objects>)"
            ]
          },
          "metadata": {},
          "execution_count": 11
        },
        {
          "output_type": "display_data",
          "data": {
            "text/plain": [
              "<Figure size 720x360 with 1 Axes>"
            ],
            "image/png": "[encoded data removed]"
          },
          "metadata": {}
        }
      ]
    },
    {
      "cell_type": "markdown",
      "source": [
        "As can be seen there is a big class imbalance, so what we are going to do, is to resample everything that is not No finding. We will be using sklearns resampler in order to upsample the finding classes.\n",
        "\n",
        "We are however dealing with two different types of classification binary and multi-label, for the binary case we don't really need to upsample the data. "
      ],
      "metadata": {
        "id": "flJAfvcEl-Oe"
      }
    },
    {
      "cell_type": "code",
      "source": [
        "df_majority = data[data['No Finding']==1]\n",
        "df_minority = data[data['No Finding']==0]\n",
        "\n",
        "print(f'#No finding:{len(df_majority)} \\n#Findings:{len(df_minority)}')\n",
        "#Upsample minority class\n",
        "df_minority_upsampled = resample(df_minority, \n",
        "                                 replace=True,     \n",
        "                                 n_samples=len(df_majority))\n",
        "#data = pd.concat([df_minority_upsampled,data])"
      ],
      "metadata": {
        "colab": {
          "base_uri": "https://localhost:8080/"
        },
        "id": "YxEW1D5grLM1",
        "outputId": "6315d866-3b0c-47b8-ae4e-cc3ccf4d2c86"
      },
      "execution_count": 12,
      "outputs": [
        {
          "output_type": "stream",
          "name": "stdout",
          "text": [
            "#No finding:2754 \n",
            "#Findings:2245\n"
          ]
        }
      ]
    },
    {
      "cell_type": "markdown",
      "source": [
        "Lets explore how the age distribution is, by plotting the histogram of the Patient age. "
      ],
      "metadata": {
        "id": "R07o4kLn_t_k"
      }
    },
    {
      "cell_type": "code",
      "source": [
        "sns.histplot(data = data,x = 'Patient Age',color = 'b',kde=True)\n",
        "plt.title(\"Patient age\")"
      ],
      "metadata": {
        "colab": {
          "base_uri": "https://localhost:8080/",
          "height": 368
        },
        "id": "kW38Cv62_gjr",
        "outputId": "15516312-df66-4f82-9120-80e3961329e5"
      },
      "execution_count": 13,
      "outputs": [
        {
          "output_type": "execute_result",
          "data": {
            "text/plain": [
              "Text(0.5, 1.0, 'Patient age')"
            ]
          },
          "metadata": {},
          "execution_count": 13
        },
        {
          "output_type": "display_data",
          "data": {
            "text/plain": [
              "<Figure size 720x360 with 1 Axes>"
            ],
            "image/png": "[encoded data removed]"
          },
          "metadata": {}
        }
      ]
    },
    {
      "cell_type": "markdown",
      "source": [
        "However for the sake of investigating if we may have any bias problems, lets differentiate between genders. This could show to be important since we want to know if the model might have some sort of bias against age or gender. "
      ],
      "metadata": {
        "id": "nsvT0CrSAEnM"
      }
    },
    {
      "cell_type": "code",
      "source": [
        "sns.histplot(data = data,x = 'Patient Age', hue = 'Patient Gender',kde=True)\n",
        "plt.title(\"Patient age\")"
      ],
      "metadata": {
        "colab": {
          "base_uri": "https://localhost:8080/",
          "height": 368
        },
        "id": "iFevmCdYAiLL",
        "outputId": "02d09d0e-f3bc-4071-8dc3-699e2fef0868"
      },
      "execution_count": 14,
      "outputs": [
        {
          "output_type": "execute_result",
          "data": {
            "text/plain": [
              "Text(0.5, 1.0, 'Patient age')"
            ]
          },
          "metadata": {},
          "execution_count": 14
        },
        {
          "output_type": "display_data",
          "data": {
            "text/plain": [
              "<Figure size 720x360 with 1 Axes>"
            ],
            "image/png": "[encoded data removed]"
          },
          "metadata": {}
        }
      ]
    },
    {
      "cell_type": "markdown",
      "source": [
        "## Testing for normality and difference in distributions\n",
        "Another thing our data accounts for is gender, so we can also vizualize if a Gender would have influence on how frequent a lung disese occurs. One thing we can interpret from the plots is that it looks like the Male group has a higher variance. However from the plot it is quite hard to tell.\n",
        "\n",
        "Another thing is that it looks like the female might follow a normal distribution somewhat however for the male we are hesitant to make any conclusions. In order to decide we will perform The Shapiro-Wilk test which has H0: that the data was drawn from a normal distribution, the result of this test will then determine if we choose to use a parametric or none paramtric test between the two groups. \n",
        "\n"
      ],
      "metadata": {
        "id": "gHnz8IRZF9E-"
      }
    },
    {
      "cell_type": "code",
      "source": [
        "gender_df = data.groupby('Patient Gender')\n",
        "female, male = data[data['Patient Gender'] == 'F']['Patient Age'], data[data['Patient Gender'] == 'M']['Patient Age']\n",
        "gender_df['Patient Age'].describe()"
      ],
      "metadata": {
        "colab": {
          "base_uri": "https://localhost:8080/",
          "height": 143
        },
        "id": "Wfsj0GaGGNS8",
        "outputId": "9ae98ba6-f553-41c3-edac-e98fa9fd02b6"
      },
      "execution_count": 15,
      "outputs": [
        {
          "output_type": "execute_result",
          "data": {
            "text/plain": [
              "                 count       mean        std   min   25%   50%   75%   max\n",
              "Patient Gender                                                            \n",
              "F               2391.0  55.293183  14.796351   9.0  48.0  56.0  66.0  92.0\n",
              "M               2608.0  48.615414  18.248206  10.0  34.0  49.0  61.0  94.0"
            ],
            "text/html": [
              "\n",
              "  <div id=\"df-63fe5d52-7db1-4d48-a653-120e0ca19a62\">\n",
              "    <div class=\"colab-df-container\">\n",
              "      <div>\n",
              "<style scoped>\n",
              "    .dataframe tbody tr th:only-of-type {\n",
              "        vertical-align: middle;\n",
              "    }\n",
              "\n",
              "    .dataframe tbody tr th {\n",
              "        vertical-align: top;\n",
              "    }\n",
              "\n",
              "    .dataframe thead th {\n",
              "        text-align: right;\n",
              "    }\n",
              "</style>\n",
              "<table border=\"1\" class=\"dataframe\">\n",
              "  <thead>\n",
              "    <tr style=\"text-align: right;\">\n",
              "      <th></th>\n",
              "      <th>count</th>\n",
              "      <th>mean</th>\n",
              "      <th>std</th>\n",
              "      <th>min</th>\n",
              "      <th>25%</th>\n",
              "      <th>50%</th>\n",
              "      <th>75%</th>\n",
              "      <th>max</th>\n",
              "    </tr>\n",
              "    <tr>\n",
              "      <th>Patient Gender</th>\n",
              "      <th></th>\n",
              "      <th></th>\n",
              "      <th></th>\n",
              "      <th></th>\n",
              "      <th></th>\n",
              "      <th></th>\n",
              "      <th></th>\n",
              "      <th></th>\n",
              "    </tr>\n",
              "  </thead>\n",
              "  <tbody>\n",
              "    <tr>\n",
              "      <th>F</th>\n",
              "      <td>2391.0</td>\n",
              "      <td>55.293183</td>\n",
              "      <td>14.796351</td>\n",
              "      <td>9.0</td>\n",
              "      <td>48.0</td>\n",
              "      <td>56.0</td>\n",
              "      <td>66.0</td>\n",
              "      <td>92.0</td>\n",
              "    </tr>\n",
              "    <tr>\n",
              "      <th>M</th>\n",
              "      <td>2608.0</td>\n",
              "      <td>48.615414</td>\n",
              "      <td>18.248206</td>\n",
              "      <td>10.0</td>\n",
              "      <td>34.0</td>\n",
              "      <td>49.0</td>\n",
              "      <td>61.0</td>\n",
              "      <td>94.0</td>\n",
              "    </tr>\n",
              "  </tbody>\n",
              "</table>\n",
              "</div>\n",
              "      <button class=\"colab-df-convert\" onclick=\"convertToInteractive('df-63fe5d52-7db1-4d48-a653-120e0ca19a62')\"\n",
              "              title=\"Convert this dataframe to an interactive table.\"\n",
              "              style=\"display:none;\">\n",
              "        \n",
              "  <svg xmlns=\"http://www.w3.org/2000/svg\" height=\"24px\"viewBox=\"0 0 24 24\"\n",
              "       width=\"24px\">\n",
              "    <path d=\"M0 0h24v24H0V0z\" fill=\"none\"/>\n",
              "    <path d=\"M18.56 5.44l.94 2.06.94-2.06 2.06-.94-2.06-.94-.94-2.06-.94 2.06-2.06.94zm-11 1L8.5 8.5l.94-2.06 2.06-.94-2.06-.94L8.5 2.5l-.94 2.06-2.06.94zm10 10l.94 2.06.94-2.06 2.06-.94-2.06-.94-.94-2.06-.94 2.06-2.06.94z\"/><path d=\"M17.41 7.96l-1.37-1.37c-.4-.4-.92-.59-1.43-.59-.52 0-1.04.2-1.43.59L10.3 9.45l-7.72 7.72c-.78.78-.78 2.05 0 2.83L4 21.41c.39.39.9.59 1.41.59.51 0 1.02-.2 1.41-.59l7.78-7.78 2.81-2.81c.8-.78.8-2.07 0-2.86zM5.41 20L4 18.59l7.72-7.72 1.47 1.35L5.41 20z\"/>\n",
              "  </svg>\n",
              "      </button>\n",
              "      \n",
              "  <style>\n",
              "    .colab-df-container {\n",
              "      display:flex;\n",
              "      flex-wrap:wrap;\n",
              "      gap: 12px;\n",
              "    }\n",
              "\n",
              "    .colab-df-convert {\n",
              "      background-color: #E8F0FE;\n",
              "      border: none;\n",
              "      border-radius: 50%;\n",
              "      cursor: pointer;\n",
              "      display: none;\n",
              "      fill: #1967D2;\n",
              "      height: 32px;\n",
              "      padding: 0 0 0 0;\n",
              "      width: 32px;\n",
              "    }\n",
              "\n",
              "    .colab-df-convert:hover {\n",
              "      background-color: #E2EBFA;\n",
              "      box-shadow: 0px 1px 2px rgba(60, 64, 67, 0.3), 0px 1px 3px 1px rgba(60, 64, 67, 0.15);\n",
              "      fill: #174EA6;\n",
              "    }\n",
              "\n",
              "    [theme=dark] .colab-df-convert {\n",
              "      background-color: #3B4455;\n",
              "      fill: #D2E3FC;\n",
              "    }\n",
              "\n",
              "    [theme=dark] .colab-df-convert:hover {\n",
              "      background-color: #434B5C;\n",
              "      box-shadow: 0px 1px 3px 1px rgba(0, 0, 0, 0.15);\n",
              "      filter: drop-shadow(0px 1px 2px rgba(0, 0, 0, 0.3));\n",
              "      fill: #FFFFFF;\n",
              "    }\n",
              "  </style>\n",
              "\n",
              "      <script>\n",
              "        const buttonEl =\n",
              "          document.querySelector('#df-63fe5d52-7db1-4d48-a653-120e0ca19a62 button.colab-df-convert');\n",
              "        buttonEl.style.display =\n",
              "          google.colab.kernel.accessAllowed ? 'block' : 'none';\n",
              "\n",
              "        async function convertToInteractive(key) {\n",
              "          const element = document.querySelector('#df-63fe5d52-7db1-4d48-a653-120e0ca19a62');\n",
              "          const dataTable =\n",
              "            await google.colab.kernel.invokeFunction('convertToInteractive',\n",
              "                                                     [key], {});\n",
              "          if (!dataTable) return;\n",
              "\n",
              "          const docLinkHtml = 'Like what you see? Visit the ' +\n",
              "            '<a target=\"_blank\" href=https://colab.research.google.com/notebooks/data_table.ipynb>data table notebook</a>'\n",
              "            + ' to learn more about interactive tables.';\n",
              "          element.innerHTML = '';\n",
              "          dataTable['output_type'] = 'display_data';\n",
              "          await google.colab.output.renderOutput(dataTable, element);\n",
              "          const docLink = document.createElement('div');\n",
              "          docLink.innerHTML = docLinkHtml;\n",
              "          element.appendChild(docLink);\n",
              "        }\n",
              "      </script>\n",
              "    </div>\n",
              "  </div>\n",
              "  "
            ]
          },
          "metadata": {},
          "execution_count": 15
        }
      ]
    },
    {
      "cell_type": "code",
      "source": [
        "shapiro(female).pvalue"
      ],
      "metadata": {
        "colab": {
          "base_uri": "https://localhost:8080/"
        },
        "id": "9teK-f9evyc_",
        "outputId": "da5bb00d-861a-49a5-e727-27a3447951a0"
      },
      "execution_count": 16,
      "outputs": [
        {
          "output_type": "execute_result",
          "data": {
            "text/plain": [
              "1.0693677867986169e-19"
            ]
          },
          "metadata": {},
          "execution_count": 16
        }
      ]
    },
    {
      "cell_type": "code",
      "source": [
        "# The Shapiro-Wilk test\n",
        "female_pval = shapiro(female).pvalue \n",
        "male_pval = shapiro(male).pvalue\n",
        "string = f'p-value in test for normality \\nFemale: {female_pval} \\nMale: {male_pval}' \n",
        "print(string)"
      ],
      "metadata": {
        "colab": {
          "base_uri": "https://localhost:8080/"
        },
        "id": "RHAd4UJqve2n",
        "outputId": "9342e579-4a2b-45b3-8be9-7b02fc440052"
      },
      "execution_count": 17,
      "outputs": [
        {
          "output_type": "stream",
          "name": "stdout",
          "text": [
            "p-value in test for normality \n",
            "Female: 1.0693677867986169e-19 \n",
            "Male: 5.409367124018091e-15\n"
          ]
        }
      ]
    },
    {
      "cell_type": "markdown",
      "source": [
        "So from these results it is safe to say that we can not assume normality. Because of this we will be using the The Mann-Whitney U test which is a non parametric test between distributions. The non-parametric is important here since it does not take any distribution into account, the reason we will not always be using this is because it has lower statistical power, which means it will more often reject the h0 when it should not. "
      ],
      "metadata": {
        "id": "C_VV2KJIwWIz"
      }
    },
    {
      "cell_type": "code",
      "source": [
        "# mannwhitneyu test\n",
        "diff_pvalue = mannwhitneyu(male,female).pvalue\n",
        "print(f'We reject the H0 with significance 0.05 and with p-value: {diff_pvalue}')"
      ],
      "metadata": {
        "colab": {
          "base_uri": "https://localhost:8080/"
        },
        "id": "X4Mk54apw42B",
        "outputId": "0d8f7f01-c3b7-4dff-82d8-8277bee0fb57"
      },
      "execution_count": 18,
      "outputs": [
        {
          "output_type": "stream",
          "name": "stdout",
          "text": [
            "We reject the H0 with significance 0.05 and with p-value: 3.0050529165554154e-45\n"
          ]
        }
      ]
    },
    {
      "cell_type": "markdown",
      "source": [
        "So from all of this we can derive that there is a significant difference between the age of Male and Females in the data-set. Do note that all of this has been computed on a subset of the real data-set and thus may not be representative for the entire data-set. "
      ],
      "metadata": {
        "id": "aVoUJej1xqIY"
      }
    },
    {
      "cell_type": "markdown",
      "source": [
        "## Correlation between variables"
      ],
      "metadata": {
        "id": "2sg3DGWFx7SO"
      }
    },
    {
      "cell_type": "markdown",
      "source": [
        "Now we can plot the correlation matrix, to check if any of the findings often occur togehter. Note that we have dropped *'No Finding'* since it will never occur together with any of the other variables. "
      ],
      "metadata": {
        "id": "zILOc3O2DMI3"
      }
    },
    {
      "cell_type": "code",
      "source": [
        "plt.rcParams[\"figure.figsize\"] = (15,10)\n",
        "df = dummies.drop(columns = 'No Finding').corr()\n",
        "ax = sns.heatmap(df,annot = True,cmap=\"crest\",square=True, linewidths=.5,cbar=False)\n",
        "ax.set(xlabel=\"\", ylabel=\"\")\n",
        "ax.xaxis.tick_top()\n",
        "plt.xticks(rotation=45)\n",
        "plt.title('Correlation matrix of findings')"
      ],
      "metadata": {
        "colab": {
          "base_uri": "https://localhost:8080/",
          "height": 690
        },
        "id": "dTLLey5Q8dh6",
        "outputId": "2782f72c-2d6d-4841-91c6-7648b66bba14"
      },
      "execution_count": 19,
      "outputs": [
        {
          "output_type": "execute_result",
          "data": {
            "text/plain": [
              "Text(0.5, 1.0, 'Correlation matrix of findings')"
            ]
          },
          "metadata": {},
          "execution_count": 19
        },
        {
          "output_type": "display_data",
          "data": {
            "text/plain": [
              "<Figure size 1080x720 with 1 Axes>"
            ],
            "image/png": "[encoded data removed]"
          },
          "metadata": {}
        }
      ]
    },
    {
      "cell_type": "markdown",
      "source": [
        "# Predicting the label from images. "
      ],
      "metadata": {
        "id": "2Bm9OOQIILp0"
      }
    },
    {
      "cell_type": "code",
      "source": [
        "import torch \n",
        "from torchvision import datasets, transforms\n",
        "from torchvision.models import inception_v3,resnext50_32x4d\n",
        "from torch.utils.data import Dataset, DataLoader\n",
        "from PIL import Image\n",
        "import glob\n",
        "import os\n",
        "from skimage import io, transform\n",
        "from sklearn.model_selection import train_test_split\n",
        "from torch import nn\n",
        "import torch.functional as F\n",
        "from tqdm.notebook import trange, tqdm\n",
        "from sklearn.model_selection import train_test_split\n",
        "from torch.optim.lr_scheduler import StepLR"
      ],
      "metadata": {
        "id": "cCp-CU0gIQSC"
      },
      "execution_count": 20,
      "outputs": []
    },
    {
      "cell_type": "code",
      "source": [
        "device = \"cuda\" if torch.cuda.is_available() else \"cpu\"\n",
        "print(device)"
      ],
      "metadata": {
        "id": "H_W-zwTAI33K",
        "colab": {
          "base_uri": "https://localhost:8080/"
        },
        "outputId": "785bb3a7-f386-4859-ebaf-551c8a8e37cb"
      },
      "execution_count": 21,
      "outputs": [
        {
          "output_type": "stream",
          "name": "stdout",
          "text": [
            "cuda\n"
          ]
        }
      ]
    },
    {
      "cell_type": "markdown",
      "source": [
        "First let us make sure that we make a trainning set and a testing set\n"
      ],
      "metadata": {
        "id": "0EEWZApyMF4Y"
      }
    },
    {
      "cell_type": "code",
      "source": [
        "train_df, test_df = train_test_split(data,test_size=0.15, random_state=42)"
      ],
      "metadata": {
        "id": "yfWEUCkJMKxU"
      },
      "execution_count": 22,
      "outputs": []
    },
    {
      "cell_type": "markdown",
      "source": [
        "## Data handleing with pytorch\n",
        "\n",
        "In order to work with pytorch and the image data, we have to create a costoum data-set. This is basically just a class, where you specify the __len__() and __getitem__() methods. Especially __getitem__() is important in this case, since we don't wan't to load all of the images into the ram at once. We are working with a big data-set and we can easily end up using all of the ram if we are not smart about how we do the loading of the data. \n",
        "\n",
        "The way we construct the data-set class is that each time the __getitem__() class is called it loads the image from the directory. This means that we only take images into the ram when we actually need them. \n",
        "\n",
        "Another thing we adress in this class is the construction of labels and transformations we apply to the images. We will be explaining two forms of classificatin binary and multi-label. The first method is quite a lot simpler than the second. \n",
        "\n",
        "###Binary\n",
        "The way we can convert the problem to a binary problem is simply by only predicting if the image contains a finding or no finding, but not which specific finding that is being considered. \n",
        "\n",
        "### Multi-label \n",
        "Here we would actually try to predict which exact label to assign to given image.\n",
        "\n",
        "The way this can be handled with pytorch is simply to create a binary variable indicating if we want to work with the binary data or the multi-label data. Notice how there is different if statements in the __getitem__() method. This allows us to only implement one class, instead of having to redefine the class. "
      ],
      "metadata": {
        "id": "CmNYvZivT96X"
      }
    },
    {
      "cell_type": "code",
      "source": [
        "class LungDataSet(Dataset):\n",
        "  \n",
        "  def __init__(self,df,root_dir,input_size,tform = None,binary = True):\n",
        "    self.df = df \n",
        "    self.root_dir = root_dir\n",
        "    self.tform = tform\n",
        "    self.input_size = input_size\n",
        "    self.binary = binary\n",
        "\n",
        "  def __len__(self):\n",
        "    return len(self.df)\n",
        "  \n",
        "  def __getitem__(self, idx):\n",
        "    if torch.is_tensor(idx):\n",
        "      idx = idx.tolist()\n",
        "    \n",
        "    img_name = self.df.iloc[idx,0]\n",
        "    path = os.path.join(self.root_dir,img_name)\n",
        "    #print(path)\n",
        "\n",
        "    image = io.imread(path)\n",
        "\n",
        "    if len(image.shape)>2: # For some reason some of the images have copied slices of them self so they are 3d \n",
        "      image = image[:,:,0]\n",
        "    \n",
        "    tf = transforms.Resize(image.size)\n",
        "    #image = torch.tensor([image for i in range(3)])\n",
        "    image = tf(torch.tensor([image for i in range(3)])) # This is just me trying stuff \n",
        "    \n",
        "    if image.shape == torch.Size([3, 299, 299, 4]):\n",
        "      print(path)\n",
        "    \n",
        "    if self.binary:\n",
        "      labels = self.df.iloc[idx,15] #12: if we use all labels\n",
        "      labels = torch.tensor([1,0]) if labels.item() == 0 else torch.tensor([0,1]) # Notice how 0 in no finding means there is a finding\n",
        "    else: \n",
        "      labels = self.df.iloc[idx,12:]\n",
        "      labels = labels.to_list()\n",
        "    \n",
        "    labels = torch.tensor(labels).to(float)\n",
        "    #print()\n",
        "    if self.tform:\n",
        "      image = self.tform(image)\n",
        "\n",
        "    sample = {'image': image, 'labels': labels}\n",
        "\n",
        "\n",
        "    return sample "
      ],
      "metadata": {
        "id": "S_2LYTT_PxpZ"
      },
      "execution_count": 23,
      "outputs": []
    },
    {
      "cell_type": "markdown",
      "source": [
        "### Transforms of images \n",
        "As we are using the ResNet architecture, we are risking overfitting the network to the images, in order to combat this we will be using transformations. The ones we will be using are random horizontal flips and random vertical flips. These transformations are basically just flipping the images in random directions, this is in the hope that the network will learn the representation of the actual illness and not be biased towards the direction of the image it is seeing. Furthermore "
      ],
      "metadata": {
        "id": "gdkAnh97_YZU"
      }
    },
    {
      "cell_type": "code",
      "source": [
        "tform = transforms.Compose([\n",
        "    transforms.ToPILImage(),\n",
        "    transforms.RandomHorizontalFlip(),\n",
        "    transforms.RandomVerticalFlip(),\n",
        "    transforms.ToTensor()\n",
        "])\n",
        "\n",
        "dir = '/content/drive/MyDrive/CMSC320-Intro_data_science/FinalProject/Data/images/'\n",
        "train_set = LungDataSet(df = train_df,root_dir = dir,input_size = (299,299),binary = True, tform = tform)\n",
        "test_set = LungDataSet(df = test_df,root_dir = dir,input_size = (299,299),tform = tform)"
      ],
      "metadata": {
        "id": "p_zQZSP0S5AS"
      },
      "execution_count": 24,
      "outputs": []
    },
    {
      "cell_type": "code",
      "source": [
        "#train_set[0]['image'].shape"
      ],
      "metadata": {
        "id": "Pji9Cf4l6Goq"
      },
      "execution_count": 25,
      "outputs": []
    },
    {
      "cell_type": "markdown",
      "source": [
        "## Visualize the data we will be training on "
      ],
      "metadata": {
        "id": "dYlZgnYiK6mM"
      }
    },
    {
      "cell_type": "code",
      "source": [
        "fig = plt.figure()\n",
        "\n",
        "for i in range(len(train_set)):\n",
        "    sample = train_set[i]\n",
        "\n",
        "    print(i, sample['image'].shape, sample['labels'].shape)\n",
        "\n",
        "    ax = plt.subplot(1, 4, i + 1)\n",
        "    plt.tight_layout()\n",
        "    ax.set_title('Sample #{}'.format(i))\n",
        "    ax.axis('off')\n",
        "    plt.imshow(sample['image'][0,:,:])\n",
        "\n",
        "    if i == 3:\n",
        "        plt.show()\n",
        "        break"
      ],
      "metadata": {
        "id": "aLzyM_keVctz"
      },
      "execution_count": null,
      "outputs": []
    },
    {
      "cell_type": "code",
      "source": [
        "#Train Loader \n",
        "train_dataloader = DataLoader(train_set, batch_size=4, shuffle=True, num_workers=0)\n",
        "\n",
        "#Test Loader\n",
        "test_dataloader = DataLoader(test_set, batch_size=1, shuffle=True, num_workers=0)"
      ],
      "metadata": {
        "id": "iIzo3ZteXz7q"
      },
      "execution_count": null,
      "outputs": []
    },
    {
      "cell_type": "markdown",
      "source": [
        "We will be using Resnet as the backbone for our image classifier, what this means is that we are using the pretrained weights for the architecture Resnet, and then we modify the last layer to be a linear classifier which will then output the desired number of output neurons we want. \n",
        "\n",
        "In the implementation below notice, how we again make sure that we can take a different number of classes, this is again in order to do both binary classification and multi-label classification. "
      ],
      "metadata": {
        "id": "Fu8Oa1RSHB2U"
      }
    },
    {
      "cell_type": "code",
      "source": [
        "class Resnext50(nn.Module):\n",
        "    def __init__(self, n_classes):\n",
        "        super().__init__()\n",
        "        resnet = resnext50_32x4d(pretrained=True)\n",
        "        resnet.fc = nn.Sequential(\n",
        "            nn.Dropout(p=0.2),\n",
        "            nn.Linear(in_features=resnet.fc.in_features, out_features=n_classes)\n",
        "        )\n",
        "        self.n_classes = n_classes\n",
        "        self.base_model = resnet\n",
        "        self.sigm = nn.Sigmoid()\n",
        "        self.softmax = nn.Softmax()\n",
        "             \n",
        "    def forward(self, x):\n",
        "        if self.n_classes > 2:\n",
        "          return self.sigm(self.base_model(x))\n",
        "        else: \n",
        "          return self.softmax(self.base_model(x))"
      ],
      "metadata": {
        "id": "snYsmQCZIMQ8"
      },
      "execution_count": null,
      "outputs": []
    },
    {
      "cell_type": "markdown",
      "source": [
        "Define the actual objects. "
      ],
      "metadata": {
        "id": "MHWuS-huDdPX"
      }
    },
    {
      "cell_type": "code",
      "source": [
        "model_res = Resnext50(n_classes =  2)\n",
        "model_res = model_res.to(device)"
      ],
      "metadata": {
        "id": "_MG1p868Ils0"
      },
      "execution_count": null,
      "outputs": []
    },
    {
      "cell_type": "markdown",
      "source": [
        "### Loss, optimizer and scheduler \n",
        "Define loss function and the optimizer, we will be using the Adam optimizer. The loss function will be binary cross-entropy. Another thing we will define is a scheduler, which allows us to addapt the learning rate of the optimizer for each epoch. We do this because we may be interested in having a higher lr in the beginning of the training, and then as we progress we want to take smaller and smaller steps in order to reduce the chance of overshooting the minima"
      ],
      "metadata": {
        "id": "o0WnuQW7HZtQ"
      }
    },
    {
      "cell_type": "code",
      "source": [
        "loss_fn = nn.BCELoss()\n",
        "optimizer = torch.optim.Adam(model_res.parameters(), lr=1e-6)\n",
        "scheduler = StepLR(optimizer, step_size=1, gamma=0.2)"
      ],
      "metadata": {
        "id": "7iP8OhodHY4q"
      },
      "execution_count": null,
      "outputs": []
    },
    {
      "cell_type": "markdown",
      "source": [
        "## Model training\n",
        "Training loop for the model. In this cell we will be training the model. This is doen by first calling `model.train()` which basically sets the model in training mode. After this is done, we want to make a prediction for each of the batches *(we are using stochastic gradient descent)* and then based of that predictin find the gradient so that we can optimize our network. The way we find the gradient is by calling `loss.backward()` this runs the back probagation algorithm. "
      ],
      "metadata": {
        "id": "-kvMYmUJHVay"
      }
    },
    {
      "cell_type": "code",
      "source": [
        "def train(dataloader, model, loss_fn, optimizer):\n",
        "    size = len(dataloader.dataset)\n",
        "    model.train()\n",
        "    loss_tracker = []\n",
        "    for batch, point in tqdm(enumerate(dataloader)):\n",
        "        X = point['image']\n",
        "        y = point['labels']\n",
        "\n",
        "        X, y = X.to(device, dtype=torch.float), y.to(device, dtype=torch.float)\n",
        "\n",
        "        # Compute prediction error\n",
        "        pred = model(X)\n",
        "        loss = loss_fn(pred, y)\n",
        "        loss_tracker.append(loss.item())\n",
        "\n",
        "        # Backpropagation\n",
        "        optimizer.zero_grad()\n",
        "        loss.backward()\n",
        "        optimizer.step()\n",
        "\n",
        "        if batch % 2 == 0:\n",
        "            loss, current = loss.item(), batch * len(X)\n",
        "            print(f\"loss: {loss:>7f}  [{current:>5d}/{size:>5d}]\")\n",
        "        \n",
        "    return loss_tracker"
      ],
      "metadata": {
        "id": "TSzVe68wIulm"
      },
      "execution_count": null,
      "outputs": []
    },
    {
      "cell_type": "code",
      "source": [
        "def test(dataloader, model, loss_fn):\n",
        "    size = len(dataloader.dataset)\n",
        "    num_batches = len(dataloader)\n",
        "    model.eval()\n",
        "    test_loss, correct = 0, 0\n",
        "    predictions = []\n",
        "    #f = nn.Softmax(dim = 1)\n",
        "    with torch.no_grad():\n",
        "        for point in dataloader:\n",
        "            X = point['image'].to(torch.float32)\n",
        "            y = point['labels'].to(torch.float32)\n",
        "\n",
        "            X, y = X.to(device,dtype=torch.float), y.to(device,dtype=torch.float)\n",
        "            pred = model(X)\n",
        "            predictions.append((pred,y))\n",
        "            #return pred, y \n",
        "\n",
        "            test_loss += loss_fn(pred, y).item()\n",
        "            print(f'loss:{test_loss} \\n Prediction:{pred}')\n",
        "            correct += ((pred > 0.5 - y).sum().item()) == 0\n",
        "            \n",
        "    test_loss /= num_batches\n",
        "    correct /= size\n",
        "    print(correct)\n",
        "    return test_loss,predictions"
      ],
      "metadata": {
        "id": "jIVMVc7NNKHj"
      },
      "execution_count": null,
      "outputs": []
    },
    {
      "cell_type": "markdown",
      "source": [
        "##Binary classification \n",
        "Now that we have the two functions defined we are ready to actually do the training, by calling the functions in another loop. Each iteration of a training loop, is known as an epoch. For each epoch we train we also want to validate if our model is overfitting or not, therefore we call the test function (we should prob rename). \n",
        "\n",
        "Notice that we in this loop also calls the `scheduler.step()` which tells the scheduler that it should decrease the learning rate by the ammount specified earlier as the gamma value. Further more we also incorporate an early stopping, meaning that if the current version of the model does not have improved test accuracy over the last two epochs we break it. The reason for this is that an increasing test performance is signaling that our model may be overfitting to the training data. "
      ],
      "metadata": {
        "id": "moyjmg00JcMZ"
      }
    },
    {
      "cell_type": "code",
      "source": [
        "epochs = 15\n",
        "train_loss = []\n",
        "test_loss = []\n",
        "predictions = []\n",
        "for t in tqdm(range(epochs)):\n",
        "  # Train\n",
        "  epoch_train_loss = train(train_dataloader, model_res, loss_fn, optimizer)\n",
        "  train_loss.append(epoch_train_loss)\n",
        "\n",
        "  #Test\n",
        "  epoch_test_loss, epoch_predictions = test(test_dataloader, model_res, loss_fn)\n",
        "  test_loss.append(epoch_test_loss)\n",
        "  predictions.append(epoch_predictions)\n",
        "\n",
        "  # Decrease lr for each epoch.\n",
        "  scheduler.step()\n",
        "  \n",
        "  #Impose early stopping \n",
        "  if t > 2 and test_loss[-1] > test_loss[-2] and test_loss[-1] > test_loss[-3]:\n",
        "    break "
      ],
      "metadata": {
        "id": "yclR38hCI5-a"
      },
      "execution_count": null,
      "outputs": []
    },
    {
      "cell_type": "markdown",
      "source": [
        "The step above is where you as the programmer are going to do so adjustments yourself. The overall thing to look for, is a generel decreasing training loss, but also that the test loss is decreasing along with it. If you start to see a test loss that is increasing while training loss is decreasing then abort mission, because you are overfitting. \n",
        "\n",
        "Another thing thing when training an NN, is that we have to set the hyper-parameters our self. One could use gridsearch or baysian optimization to find these paramters however these will require you to fully train a network multiple times, and in our case when we are using ResNet as the backbone it has around 11 million parameters. Therefore if you see the training loss bouncing around but not really decreasing in generel try to lower the learning rate. Youd could also try to adjust the batch size, since we are using stochastic gradient descent. The batchsize can be thought of as the amount of samples we use to estimate our gradient before stepping in the negative direction of it. "
      ],
      "metadata": {
        "id": "5Wxkb2q39Gqr"
      }
    },
    {
      "cell_type": "code",
      "source": [
        "# Save the model paramters as tar file to you working directory \n",
        "torch.save(model_res.state_dict(), './Resnet50.pth')"
      ],
      "metadata": {
        "id": "sGHMgqj5CML8"
      },
      "execution_count": null,
      "outputs": []
    }
  ]
}